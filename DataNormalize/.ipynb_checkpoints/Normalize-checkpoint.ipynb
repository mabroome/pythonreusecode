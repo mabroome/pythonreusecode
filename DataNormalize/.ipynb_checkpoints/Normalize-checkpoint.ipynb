{
 "cells": [
  {
   "cell_type": "code",
   "execution_count": 38,
   "metadata": {},
   "outputs": [
    {
     "name": "stdout",
     "output_type": "stream",
     "text": [
      "             No    Money\n",
      "0  1.610000e+12  $6,871 \n",
      "1  1.680000e+12  $7,965 \n",
      "2  1.650000e+12  $7,927 \n",
      "3  1.630000e+12  $9,525 \n",
      "4  1.630000e+12  $7,008 \n",
      "5  1.650000e+12  $5,138 \n",
      "6  1.650000e+12  $6,921 \n",
      "7  1.640000e+12  $7,821 \n",
      "8  1.680000e+12  $7,426 \n",
      "9  1.650000e+12  $7,344 \n"
     ]
    }
   ],
   "source": [
    "# This code provides an examples to normalize the data \n",
    "# We are utilizing two techniques (Min Max & Standard) (X - min)/(max - min))\n",
    "# Utilize sklearn.preprocessing MinMaxScaler and StandardScaler\n",
    "\n",
    "import pandas as pd\n",
    "import numpy as np\n",
    "from sklearn import datasets\n",
    "import matplotlib.pyplot as plt\n",
    "\n",
    "# We will be normalizing two columns \"No\" and \"Money\" and need to remove other columns\n",
    "\n",
    "dataset = pd.read_csv(\"Fraud.csv\", encoding='latin1')\n",
    "dataset = dataset.drop([\"CC\", \"City\", \"Phone\", \"Fraud\"], axis=1)\n",
    "print(dataset.head(10))"
   ]
  },
  {
   "cell_type": "code",
   "execution_count": 41,
   "metadata": {},
   "outputs": [
    {
     "name": "stdout",
     "output_type": "stream",
     "text": [
      "<class 'pandas.core.frame.DataFrame'>\n",
      "RangeIndex: 99 entries, 0 to 98\n",
      "Data columns (total 2 columns):\n",
      "No       99 non-null float64\n",
      "Money    99 non-null int32\n",
      "dtypes: float64(1), int32(1)\n",
      "memory usage: 1.2 KB\n"
     ]
    }
   ],
   "source": [
    "# Convert Money to an integer and remove \"$\" and \",\"\n",
    "\n",
    "dataset[\"Money\"] = dataset[\"Money\"].str.replace(r'$', '')\n",
    "dataset[\"Money\"] = dataset[\"Money\"].str.replace(r',', '').astype(int)\n",
    "dataset.info()\n"
   ]
  },
  {
   "cell_type": "code",
   "execution_count": 49,
   "metadata": {},
   "outputs": [],
   "source": [
    "from sklearn.preprocessing import MinMaxScaler\n",
    "\n",
    "\n",
    "# Establish object instance of MinMax Scalar\n",
    "\n",
    "mms = MinMaxScaler()\n",
    "\n",
    "# Normalize all columns : Output is an ndarry \n",
    "\n",
    "var_norm = mms.fit_transform(dataset)\n",
    "\n",
    "# convert var_norm nparray to df use columns in original df X\n",
    "\n",
    "minmax_dataset = pd.DataFrame(data = var_norm, columns = dataset.columns )"
   ]
  },
  {
   "cell_type": "code",
   "execution_count": 51,
   "metadata": {},
   "outputs": [
    {
     "data": {
      "text/html": [
       "<div>\n",
       "<style scoped>\n",
       "    .dataframe tbody tr th:only-of-type {\n",
       "        vertical-align: middle;\n",
       "    }\n",
       "\n",
       "    .dataframe tbody tr th {\n",
       "        vertical-align: top;\n",
       "    }\n",
       "\n",
       "    .dataframe thead th {\n",
       "        text-align: right;\n",
       "    }\n",
       "</style>\n",
       "<table border=\"1\" class=\"dataframe\">\n",
       "  <thead>\n",
       "    <tr style=\"text-align: right;\">\n",
       "      <th></th>\n",
       "      <th>No</th>\n",
       "      <th>Money</th>\n",
       "    </tr>\n",
       "  </thead>\n",
       "  <tbody>\n",
       "    <tr>\n",
       "      <th>count</th>\n",
       "      <td>99.000000</td>\n",
       "      <td>99.000000</td>\n",
       "    </tr>\n",
       "    <tr>\n",
       "      <th>mean</th>\n",
       "      <td>0.534091</td>\n",
       "      <td>0.452341</td>\n",
       "    </tr>\n",
       "    <tr>\n",
       "      <th>std</th>\n",
       "      <td>0.312790</td>\n",
       "      <td>0.308412</td>\n",
       "    </tr>\n",
       "    <tr>\n",
       "      <th>min</th>\n",
       "      <td>0.000000</td>\n",
       "      <td>0.000000</td>\n",
       "    </tr>\n",
       "    <tr>\n",
       "      <th>25%</th>\n",
       "      <td>0.250000</td>\n",
       "      <td>0.184024</td>\n",
       "    </tr>\n",
       "    <tr>\n",
       "      <th>50%</th>\n",
       "      <td>0.500000</td>\n",
       "      <td>0.434024</td>\n",
       "    </tr>\n",
       "    <tr>\n",
       "      <th>75%</th>\n",
       "      <td>0.812500</td>\n",
       "      <td>0.682298</td>\n",
       "    </tr>\n",
       "    <tr>\n",
       "      <th>max</th>\n",
       "      <td>1.000000</td>\n",
       "      <td>1.000000</td>\n",
       "    </tr>\n",
       "  </tbody>\n",
       "</table>\n",
       "</div>"
      ],
      "text/plain": [
       "              No      Money\n",
       "count  99.000000  99.000000\n",
       "mean    0.534091   0.452341\n",
       "std     0.312790   0.308412\n",
       "min     0.000000   0.000000\n",
       "25%     0.250000   0.184024\n",
       "50%     0.500000   0.434024\n",
       "75%     0.812500   0.682298\n",
       "max     1.000000   1.000000"
      ]
     },
     "execution_count": 51,
     "metadata": {},
     "output_type": "execute_result"
    }
   ],
   "source": [
    "minmax_dataset.describe()"
   ]
  },
  {
   "cell_type": "code",
   "execution_count": 53,
   "metadata": {},
   "outputs": [],
   "source": [
    "from sklearn.preprocessing import StandardScaler\n",
    "\n",
    "\n",
    "# Establish object instance of MinMax Scalar\n",
    "\n",
    "sss = StandardScaler()\n",
    "\n",
    "# Normalize all columns : Output is an ndarry \n",
    "\n",
    "var_norm = sss.fit_transform(dataset)\n",
    "\n",
    "# Convert to dataframe\n",
    "\n",
    "standard_dataset = pd.DataFrame(data = var_norm, columns = dataset.columns )"
   ]
  },
  {
   "cell_type": "code",
   "execution_count": 61,
   "metadata": {},
   "outputs": [
    {
     "data": {
      "text/html": [
       "<div>\n",
       "<style scoped>\n",
       "    .dataframe tbody tr th:only-of-type {\n",
       "        vertical-align: middle;\n",
       "    }\n",
       "\n",
       "    .dataframe tbody tr th {\n",
       "        vertical-align: top;\n",
       "    }\n",
       "\n",
       "    .dataframe thead th {\n",
       "        text-align: right;\n",
       "    }\n",
       "</style>\n",
       "<table border=\"1\" class=\"dataframe\">\n",
       "  <thead>\n",
       "    <tr style=\"text-align: right;\">\n",
       "      <th></th>\n",
       "      <th>No</th>\n",
       "      <th>Money</th>\n",
       "    </tr>\n",
       "  </thead>\n",
       "  <tbody>\n",
       "    <tr>\n",
       "      <th>count</th>\n",
       "      <td>9.900000e+01</td>\n",
       "      <td>9.900000e+01</td>\n",
       "    </tr>\n",
       "    <tr>\n",
       "      <th>mean</th>\n",
       "      <td>8.720578e-16</td>\n",
       "      <td>-7.177199e-17</td>\n",
       "    </tr>\n",
       "    <tr>\n",
       "      <th>std</th>\n",
       "      <td>1.005089e+00</td>\n",
       "      <td>1.005089e+00</td>\n",
       "    </tr>\n",
       "    <tr>\n",
       "      <th>min</th>\n",
       "      <td>-1.716197e+00</td>\n",
       "      <td>-1.474141e+00</td>\n",
       "    </tr>\n",
       "    <tr>\n",
       "      <th>25%</th>\n",
       "      <td>-9.128709e-01</td>\n",
       "      <td>-8.744237e-01</td>\n",
       "    </tr>\n",
       "    <tr>\n",
       "      <th>50%</th>\n",
       "      <td>-1.095445e-01</td>\n",
       "      <td>-5.969536e-02</td>\n",
       "    </tr>\n",
       "    <tr>\n",
       "      <th>75%</th>\n",
       "      <td>8.946135e-01</td>\n",
       "      <td>7.494096e-01</td>\n",
       "    </tr>\n",
       "    <tr>\n",
       "      <th>max</th>\n",
       "      <td>1.497108e+00</td>\n",
       "      <td>1.784773e+00</td>\n",
       "    </tr>\n",
       "  </tbody>\n",
       "</table>\n",
       "</div>"
      ],
      "text/plain": [
       "                 No         Money\n",
       "count  9.900000e+01  9.900000e+01\n",
       "mean   8.720578e-16 -7.177199e-17\n",
       "std    1.005089e+00  1.005089e+00\n",
       "min   -1.716197e+00 -1.474141e+00\n",
       "25%   -9.128709e-01 -8.744237e-01\n",
       "50%   -1.095445e-01 -5.969536e-02\n",
       "75%    8.946135e-01  7.494096e-01\n",
       "max    1.497108e+00  1.784773e+00"
      ]
     },
     "execution_count": 61,
     "metadata": {},
     "output_type": "execute_result"
    }
   ],
   "source": [
    "standard_dataset.describe()"
   ]
  },
  {
   "cell_type": "code",
   "execution_count": 31,
   "metadata": {},
   "outputs": [],
   "source": []
  },
  {
   "cell_type": "code",
   "execution_count": null,
   "metadata": {},
   "outputs": [],
   "source": []
  }
 ],
 "metadata": {
  "kernelspec": {
   "display_name": "Python 3",
   "language": "python",
   "name": "python3"
  },
  "language_info": {
   "codemirror_mode": {
    "name": "ipython",
    "version": 3
   },
   "file_extension": ".py",
   "mimetype": "text/x-python",
   "name": "python",
   "nbconvert_exporter": "python",
   "pygments_lexer": "ipython3",
   "version": "3.7.3"
  }
 },
 "nbformat": 4,
 "nbformat_minor": 2
}
