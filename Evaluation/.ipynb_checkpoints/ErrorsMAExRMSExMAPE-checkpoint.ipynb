{
 "cells": [
  {
   "cell_type": "code",
   "execution_count": 6,
   "metadata": {},
   "outputs": [],
   "source": [
    "# Calculate error rate for y and predicted y\n",
    "# Mean Absolute Error (MAE)\n",
    "# Root Mean Square Error (RMSE)\n",
    "# Mean Absolute Percent Error (MAPE)\n",
    "# Returns a dictionary of errors \n",
    "# include print_it = True to also print the results\n",
    "\n",
    "#copy below to use function\n",
    "# result_dict = calculate_errors(y, pred_y, print_it = False)\n",
    "\n",
    "def calculate_errors(y, pred_y, print_it = False):\n",
    "    \n",
    "    \n",
    "    from sklearn.metrics import mean_absolute_error as mae  \n",
    "    from math import sqrt\n",
    "    from sklearn.metrics import mean_squared_error as mse \n",
    "    import numpy as np\n",
    "\n",
    "    pe = []\n",
    " \n",
    "    for j in range(0,len(y)):\n",
    "        pe_j = (y[j] - pred_y[j])/y[j]*100\n",
    "        pe.append(abs(pe_j))    \n",
    "    mape = np.average(pe)\n",
    "    \n",
    "    \n",
    "    if print_it == True:\n",
    "        print('Model MAE : ' + str(mae(y,y_hat)))\n",
    "        print('Model RMSE : '+ str(sqrt(mse(y,y_hat))))\n",
    "        print('Model MAPE : '+ str(mape))\n",
    "        \n",
    "    mae_error = mae(y, pred_y)\n",
    "    rmse_error = sqrt(mse(y, pred_y))\n",
    "    mape_error = mape\n",
    "    \n",
    "    return {\"mae\" : mae_error, \"rmse\" : rmse_error, \"mape\": mape_error}\n",
    "    \n"
   ]
  },
  {
   "cell_type": "code",
   "execution_count": 8,
   "metadata": {},
   "outputs": [],
   "source": [
    "y = [2,3,5,7]\n",
    "y_hat = [1,4,3,9]\n",
    "# pred_errors = calculate_errors(y, y_hat, print_it = True)\n",
    "pred_errors = calculate_errors(y, y_hat)\n"
   ]
  },
  {
   "cell_type": "code",
   "execution_count": 9,
   "metadata": {},
   "outputs": [
    {
     "data": {
      "text/plain": [
       "{'mae': 1.5, 'rmse': 1.5811388300841898, 'mape': 37.976190476190474}"
      ]
     },
     "execution_count": 9,
     "metadata": {},
     "output_type": "execute_result"
    }
   ],
   "source": [
    "pred_errors"
   ]
  },
  {
   "cell_type": "code",
   "execution_count": null,
   "metadata": {},
   "outputs": [],
   "source": []
  }
 ],
 "metadata": {
  "kernelspec": {
   "display_name": "Python 3",
   "language": "python",
   "name": "python3"
  },
  "language_info": {
   "codemirror_mode": {
    "name": "ipython",
    "version": 3
   },
   "file_extension": ".py",
   "mimetype": "text/x-python",
   "name": "python",
   "nbconvert_exporter": "python",
   "pygments_lexer": "ipython3",
   "version": "3.7.3"
  }
 },
 "nbformat": 4,
 "nbformat_minor": 2
}
