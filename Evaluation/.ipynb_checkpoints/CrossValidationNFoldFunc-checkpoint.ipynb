{
 "cells": [
  {
   "cell_type": "code",
   "execution_count": 74,
   "metadata": {},
   "outputs": [],
   "source": [
    "# The following function will evaluate a model using n-fold & n-fold with Stratification\n",
    "# Functions names 'n_fold' and 'n_fold_strat'\n",
    "# classifier is the instance of the model for classification\n",
    "# X is the dataset excluding y\n",
    "# folds is the number of folds\n",
    "# Metrics are the performance metrics to be returned\n",
    "# Use : metrics = ['roc_auc','accuracy','precision']\n",
    "# X is the entire set of independant variables / feature set, y is the dependent variable for model prediction\n",
    "\n",
    "def n_fold(classifier, X, y, folds, metrics):\n",
    "    \n",
    "    import pandas as pd\n",
    "    from sklearn.model_selection import cross_validate\n",
    "    sum_res = {}\n",
    "    \n",
    "    \n",
    "    outcomes = cross_validate(classifier, X, y, scoring=metrics, cv=folds, return_train_score=True)\n",
    "    \n",
    "    sum_res['train_auc'] = outcomes.get('train_roc_auc').sum()/folds\n",
    "    sum_res['test_auc'] = outcomes.get('test_roc_auc').sum()/folds\n",
    "    sum_res['train_accuracy'] = outcomes.get('train_accuracy').sum()/folds\n",
    "    sum_res['test_accuracy'] = outcomes.get('test_accuracy').sum()/folds\n",
    "    sum_res['train_precision'] = outcomes.get('train_precision').sum()/folds\n",
    "    sum_res['test_precision'] = outcomes.get('test_precision').sum()/folds\n",
    "   \n",
    "    return outcomes, sum_res\n",
    "\n",
    "# --------------\n",
    "\n",
    "def n_fold_strat (classifier, X, y, folds, metrics):\n",
    "    \n",
    "    \n",
    "    from sklearn.model_selection import StratifiedKFold\n",
    "    from sklearn.model_selection import cross_validate\n",
    "    from sklearn.pipeline import make_pipeline\n",
    "    from sklearn.preprocessing import StandardScaler\n",
    "\n",
    "    pipeline = make_pipeline(StandardScaler(), classifier)\n",
    "    stratified_kfold = StratifiedKFold(n_splits=folds)\n",
    "    outcomes = cross_validate(pipeline, X, y, scoring=metrics, cv=stratified_kfold, return_train_score=True)\n",
    "    \n",
    "    sum_res_s = {}\n",
    "    \n",
    "    sum_res_s['train_auc'] = outcomes.get('train_roc_auc').sum()/folds\n",
    "    sum_res_s['test_auc'] = outcomes.get('test_roc_auc').sum()/folds\n",
    "    sum_res_s['train_accuracy'] = outcomes.get('train_accuracy').sum()/folds\n",
    "    sum_res_s['test_accuracy'] = outcomes.get('test_accuracy').sum()/folds\n",
    "    sum_res_s['train_precision'] = outcomes.get('train_precision').sum()/folds\n",
    "    sum_res_s['test_precision'] = outcomes.get('test_precision').sum()/folds\n",
    "    \n",
    "    return outcomes, sum_res_s    \n",
    "    "
   ]
  },
  {
   "cell_type": "code",
   "execution_count": 75,
   "metadata": {},
   "outputs": [],
   "source": [
    "# Example of using n_fold function\n",
    "metrics = ['roc_auc','accuracy','precision']\n",
    "folds = 10\n",
    "\n",
    "\n",
    "det_res, sum_res = n_fold(classifier, X_train, y_train, folds, metrics)\n",
    "det_res_stat, sum_res_strat = n_fold_strat(classifier, X, y, folds, metrics)"
   ]
  },
  {
   "cell_type": "code",
   "execution_count": 76,
   "metadata": {},
   "outputs": [
    {
     "data": {
      "text/plain": [
       "{'train_auc': 0.9972052465842935,\n",
       " 'test_auc': 0.9955460214388786,\n",
       " 'train_accuracy': 0.9903186956883238,\n",
       " 'test_accuracy': 0.9886507450500103,\n",
       " 'train_precision': 1.0,\n",
       " 'test_precision': 1.0}"
      ]
     },
     "execution_count": 76,
     "metadata": {},
     "output_type": "execute_result"
    }
   ],
   "source": [
    "sum_res"
   ]
  },
  {
   "cell_type": "code",
   "execution_count": 77,
   "metadata": {},
   "outputs": [
    {
     "data": {
      "text/plain": [
       "{'train_auc': 0.9973595015835086,\n",
       " 'test_auc': 0.9965238095238096,\n",
       " 'train_accuracy': 0.9923334547326602,\n",
       " 'test_accuracy': 0.99,\n",
       " 'train_precision': 0.9966150594273436,\n",
       " 'test_precision': 0.9966666666666667}"
      ]
     },
     "execution_count": 77,
     "metadata": {},
     "output_type": "execute_result"
    }
   ],
   "source": [
    "sum_res_strat"
   ]
  },
  {
   "cell_type": "code",
   "execution_count": 23,
   "metadata": {},
   "outputs": [],
   "source": []
  },
  {
   "cell_type": "code",
   "execution_count": 24,
   "metadata": {},
   "outputs": [
    {
     "data": {
      "text/plain": [
       "{'train_auc': 0.9955460214388786}"
      ]
     },
     "execution_count": 24,
     "metadata": {},
     "output_type": "execute_result"
    }
   ],
   "source": []
  },
  {
   "cell_type": "code",
   "execution_count": 1,
   "metadata": {},
   "outputs": [],
   "source": [
    "# Setup to run example\n",
    "\n",
    "import pandas as pd\n",
    "import numpy as np\n",
    "\n",
    "\n",
    "\n",
    "# As an example we will utilize Logistic regression\n",
    "\n",
    "from sklearn.linear_model import LogisticRegression\n",
    "\n",
    "classifier = LogisticRegression(solver='liblinear')\n",
    "\n",
    "from sklearn.datasets import make_classification\n",
    "\n",
    "X,y = make_classification(n_samples=1000, n_features=10,\n",
    "                               n_informative=2, n_redundant=0, n_repeated=0,\n",
    "                               n_classes=2,\n",
    "                               n_clusters_per_class=1,\n",
    "                               weights=(0.7,0.3),\n",
    "                               class_sep=0.99, random_state=14)\n"
   ]
  },
  {
   "cell_type": "code",
   "execution_count": 4,
   "metadata": {},
   "outputs": [],
   "source": [
    "\n",
    "from sklearn.model_selection import train_test_split\n",
    "\n",
    "# You already know about training and test splits:\n",
    "X_train, X_test, y_train, y_test = train_test_split(\n",
    "        X, y, test_size=0.3, random_state=42)"
   ]
  },
  {
   "cell_type": "code",
   "execution_count": null,
   "metadata": {},
   "outputs": [],
   "source": []
  }
 ],
 "metadata": {
  "kernelspec": {
   "display_name": "Python 3",
   "language": "python",
   "name": "python3"
  },
  "language_info": {
   "codemirror_mode": {
    "name": "ipython",
    "version": 3
   },
   "file_extension": ".py",
   "mimetype": "text/x-python",
   "name": "python",
   "nbconvert_exporter": "python",
   "pygments_lexer": "ipython3",
   "version": "3.7.3"
  }
 },
 "nbformat": 4,
 "nbformat_minor": 2
}
