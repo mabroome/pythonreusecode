{
 "cells": [
  {
   "cell_type": "code",
   "execution_count": 52,
   "metadata": {},
   "outputs": [],
   "source": [
    "# Confusion Matrix Included is a function \"con_mat\" to calculate a range of scores and return as a dictionary\n",
    "# ROC curve and AUC provided\n",
    "# Input p\n",
    "\n",
    "\n",
    "import matplotlib.pyplot as plt\n",
    "from sklearn.datasets import make_classification\n",
    "\n",
    "from sklearn.linear_model import LinearRegression, LogisticRegression\n",
    "\n"
   ]
  },
  {
   "cell_type": "code",
   "execution_count": 53,
   "metadata": {},
   "outputs": [],
   "source": [
    "# An alternative to using \"con_mat\" is to use sklearn.metrics as those listed below\n",
    "\n",
    "import sklearn.datasets as datasets\n",
    "import pandas as pd\n",
    "import numpy as np\n",
    "\n",
    "from sklearn.metrics import auc\n",
    "from sklearn.metrics import recall_score as recall\n",
    "from sklearn.metrics import precision_score as precision\n",
    "from sklearn.metrics import f1_score as f1\n",
    "from sklearn.metrics import precision_recall_curve as pc_curve\n",
    "from sklearn.metrics import roc_curve as roc\n",
    "from sklearn.metrics import confusion_matrix as cm"
   ]
  },
  {
   "cell_type": "code",
   "execution_count": 108,
   "metadata": {},
   "outputs": [],
   "source": [
    "# The function calculates confusion matrix values (TP, FP, FN, TN), recall, precision, specificity, fall out and f1 score\n",
    "# Input are the predictions and actuals as arrays of 0 and 1s \n",
    "# Returns a dictionary of all the values\n",
    "\n",
    "\n",
    "def con_mat(predictions, actuals): # predictions = predicted Y, actuals = actual y\n",
    "    \n",
    "    TP = 0\n",
    "    TN = 0\n",
    "    FP = 0\n",
    "    FN = 0\n",
    "    \n",
    "    # print('In con_mat')\n",
    "    # print(predictions[1], actuals[1])\n",
    "    \n",
    "    for i in range(0, len(predictions)):\n",
    "        if ( predictions[i] == 1 and actuals[i] == 1 ) :\n",
    "            TP += 1\n",
    "        elif ( predictions[i] == 0 and actuals[i] == 0 ) :\n",
    "            TN += 1\n",
    "        elif ( predictions[i] == 1 and actuals[i] == 0 ) :\n",
    "            FP += 1\n",
    "        elif ( predictions[i] == 0 and actuals[i] == 1 ) :\n",
    "            FN += 1\n",
    "            \n",
    "    # Accuracy calculates the % of times the model made a correct prediction \n",
    "    # Precision calculates the % of times it correctly predicted the true for all the times value is true\n",
    "    # Recall calculates the % of times it correctly predicted true for all the times it predicted true\n",
    "    # Specificity calculates the % of times the model accurated predicted true negative for call the times it was negative\n",
    "    \n",
    "    \n",
    "    accuracy = (TP + TN) / (TP + TN + FP + FN)\n",
    "    recall = TP / (TP + FN)\n",
    "    precision = TP / (TP + FP)\n",
    "    specificity = TN / (TN + FP)\n",
    "    fall_out = FP / (FP + TN)\n",
    "    f_score = 2 * (precision * recall) / (precision + recall)\n",
    "    \n",
    "    con_results = {\"TP\" :TP, \"TN\" : TN, \"FP\" : FP, \"FN\" : FN, \"Accuracy\" : accuracy, \"Recall\" : recall,\n",
    "                  \"Precision\" : precision, \"Specificity\" : specificity, \"Fall Out\" : fall_out,\n",
    "                  \"F_Score\" : f_score}\n",
    "    \n",
    "    return con_results\n",
    "\n",
    "def calculate_at_threshold(threshold, predictions, actuals): \n",
    "    \n",
    "    # threshold = probability threshold, predictions = prediction probability, actuals = actual y\n",
    "    # print('In calculate at threshold')\n",
    "    # print(threshold, predictions[1], actuals[1])\n",
    "    x_coord = 0\n",
    "    y_coord = 0\n",
    "    y_n = []\n",
    "    \n",
    "    for i in range(0, len(predictions)):\n",
    "        if predictions[i] >= threshold:\n",
    "            y_n.append(1)\n",
    "        else:\n",
    "            y_n.append(0)\n",
    "            \n",
    "    results = con_mat(y_n, actuals)\n",
    "    \n",
    "    x_coord = results.get(\"Fall Out\")\n",
    "    y_coord = results.get(\"Recall\")\n",
    "            \n",
    "    # return x_coord, y_coord, y_n, results\n",
    "    return results"
   ]
  },
  {
   "cell_type": "code",
   "execution_count": 111,
   "metadata": {},
   "outputs": [
    {
     "data": {
      "text/plain": [
       "{'TP': 38,\n",
       " 'TN': 30,\n",
       " 'FP': 19,\n",
       " 'FN': 13,\n",
       " 'Accuracy': 0.68,\n",
       " 'Recall': 0.7450980392156863,\n",
       " 'Precision': 0.6666666666666666,\n",
       " 'Specificity': 0.6122448979591837,\n",
       " 'Fall Out': 0.3877551020408163,\n",
       " 'F_Score': 0.7037037037037038}"
      ]
     },
     "execution_count": 111,
     "metadata": {},
     "output_type": "execute_result"
    }
   ],
   "source": [
    "# calculate results at a selected threshold with pred probability and actuals\n",
    "\n",
    "results = calculate_at_threshold(.5, predicted[0], actuals[0])\n",
    "results\n"
   ]
  },
  {
   "cell_type": "code",
   "execution_count": 105,
   "metadata": {},
   "outputs": [],
   "source": [
    "def ROC_curve(predictions, actuals):\n",
    "\n",
    "   \n",
    "    fpr, tpr, thresholds = roc(actuals,predictions)\n",
    "    roc_auc = auc(fpr,tpr)\n",
    "    \n",
    "    plt.xlabel('False Positive Rate')\n",
    "    plt.ylabel('True Positive Rate')\n",
    "    plt.plot(fpr, tpr,\n",
    "             lw=2, label='ROC curve (area = %0.2f)' % roc_auc)\n",
    "    plt.plot([0, 1], [0, 1], color='red', lw=2, linestyle='--')\n",
    "    plt.title('ROC curve')\n",
    "    plt.legend(loc=\"lower right\")\n",
    "    plt.show()\n",
    "    "
   ]
  },
  {
   "cell_type": "code",
   "execution_count": 106,
   "metadata": {},
   "outputs": [
    {
     "data": {
      "image/png": "[encoded data removed]",
      "text/plain": [
       "<Figure size 432x288 with 1 Axes>"
      ]
     },
     "metadata": {
      "needs_background": "light"
     },
     "output_type": "display_data"
    }
   ],
   "source": [
    "# Display ROC curve and calculate AUC\n",
    "\n",
    "ROC_curve(predicted[0], actuals[0])    # Create the graph with predicted prob of y \"predicted\" and actual y \"actuals\"\n",
    "\n"
   ]
  },
  {
   "cell_type": "code",
   "execution_count": 101,
   "metadata": {},
   "outputs": [
    {
     "name": "stdout",
     "output_type": "stream",
     "text": [
      "{'TP': 37, 'TN': 31, 'FP': 18, 'FN': 14, 'Accuracy': 0.68, 'Recall': 0.7254901960784313, 'Precision': 0.6727272727272727, 'Specificity': 0.6326530612244898, 'Fall Out': 0.3673469387755102, 'F_Score': 0.6981132075471698}\n"
     ]
    }
   ],
   "source": [
    "# Calculate performance metrics and return a dictionary of keys value pairs\n",
    "results = con_mat(data[0], actuals[0])\n",
    "print(results)"
   ]
  },
  {
   "cell_type": "code",
   "execution_count": 102,
   "metadata": {},
   "outputs": [],
   "source": [
    "# Utilize the sklearn functions to calculate recall, precision, f1 score and confusion matrix\n",
    "def con_mat2(actuals, predicted):\n",
    "    print(\"Recall: \"+str(recall(actuals,predicted)))\n",
    "    print(\"Precision: \"+str(precision(actuals,predicted)))\n",
    "    print(\"F1 score: \"+str(f1(actuals,predicted)))\n",
    "    print(\"Confusion matrix: \\n\"+str(cm(actuals,predicted)))\n",
    "    return"
   ]
  },
  {
   "cell_type": "code",
   "execution_count": 107,
   "metadata": {},
   "outputs": [
    {
     "name": "stdout",
     "output_type": "stream",
     "text": [
      "Recall: 0.7254901960784313\n",
      "Precision: 0.6727272727272727\n",
      "F1 score: 0.6981132075471698\n",
      "Confusion matrix: \n",
      "[[31 18]\n",
      " [14 37]]\n"
     ]
    }
   ],
   "source": [
    "con_mat2(actuals[0], data[0])"
   ]
  },
  {
   "cell_type": "code",
   "execution_count": 55,
   "metadata": {},
   "outputs": [],
   "source": [
    "import matplotlib.pyplot as plt\n",
    "import numpy as np\n",
    "from sklearn.datasets import make_classification\n",
    "from sklearn.metrics import roc_curve as roc\n",
    "from sklearn.metrics import auc\n",
    "\n",
    "from sklearn.linear_model import LinearRegression, LogisticRegression\n",
    "\n",
    "\n",
    "dat1 = make_classification(n_samples=100, \n",
    "                    n_features=3, \n",
    "                    n_informative=3, \n",
    "                    n_redundant=0, \n",
    "                    n_repeated=0, \n",
    "                    n_classes=2, \n",
    "                    n_clusters_per_class=2, random_state=8)\n",
    "dat2 = make_classification(n_samples=100, \n",
    "                    n_features=3, \n",
    "                    n_informative=3, \n",
    "                    n_redundant=0, \n",
    "                    n_repeated=0, \n",
    "                    n_classes=2, \n",
    "                    n_clusters_per_class=2, random_state=9)\n",
    "dat3 = make_classification(n_samples=100, \n",
    "                    n_features=3, \n",
    "                    n_informative=3, \n",
    "                    n_redundant=0, \n",
    "                    n_repeated=0, \n",
    "                    n_classes=2, \n",
    "                    n_clusters_per_class=2, random_state=6)\n",
    "\n",
    "# The continuous predictions from the linear regression\n",
    "lin_regr = LinearRegression(normalize=True)\n",
    "lin_regr.fit(dat1[0], dat1[1])\n",
    "output1 = lin_regr.predict(dat1[0])\n",
    "lin_regr.fit(dat2[0], dat2[1])\n",
    "output2 = lin_regr.predict(dat2[0])\n",
    "lin_regr.fit(dat2[0], dat2[1])\n",
    "output3 = lin_regr.predict(dat3[0])\n",
    "\n",
    "actuals = [dat1[1],dat2[1],dat3[1]]\n",
    "predicted = [output1,output2,output3]\n",
    "\n",
    "# The discrete predictions from the logistic regression\n",
    "log_reg = LogisticRegression(solver='liblinear')\n",
    "log_reg.fit(dat1[0],dat1[1])\n",
    "outputD1 = log_reg.predict(dat1[0])\n",
    "log_reg.fit(dat2[0],dat2[1])\n",
    "outputD2 = log_reg.predict(dat2[0])\n",
    "log_reg.fit(dat3[0],dat3[1])\n",
    "outputD3 = log_reg.predict(dat3[0])\n",
    "data = [outputD1,outputD2,outputD3]"
   ]
  },
  {
   "cell_type": "code",
   "execution_count": null,
   "metadata": {},
   "outputs": [],
   "source": []
  }
 ],
 "metadata": {
  "kernelspec": {
   "display_name": "Python 3",
   "language": "python",
   "name": "python3"
  },
  "language_info": {
   "codemirror_mode": {
    "name": "ipython",
    "version": 3
   },
   "file_extension": ".py",
   "mimetype": "text/x-python",
   "name": "python",
   "nbconvert_exporter": "python",
   "pygments_lexer": "ipython3",
   "version": "3.7.3"
  }
 },
 "nbformat": 4,
 "nbformat_minor": 2
}
