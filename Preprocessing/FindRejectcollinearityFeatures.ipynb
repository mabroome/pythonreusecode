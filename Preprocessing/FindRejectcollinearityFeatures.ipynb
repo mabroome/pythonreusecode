{
 "cells": [
  {
   "cell_type": "code",
   "execution_count": 2,
   "metadata": {},
   "outputs": [],
   "source": [
    "# Function removes multi-collinear features, Pandas profiling needs to be installed\n",
    "\n",
    "def reject_collinear_feature(df):\n",
    "    \n",
    "    df_org = df.copy()\n",
    "    import pandas_profiling\n",
    "    from pandas_profiling import ProfileReport\n",
    "    \n",
    "    profile = ProfileReport(df_org)\n",
    "    profile.get_rejected_variables()\n",
    "    \n",
    "    rem_features= list(profile.get_rejected_variables()) \n",
    "    df_clean = df_org.drop(rem_features,axis=1)\n",
    "    \n",
    "    return df_clean, rem_features\n",
    "    \n"
   ]
  },
  {
   "cell_type": "code",
   "execution_count": 26,
   "metadata": {},
   "outputs": [],
   "source": [
    "# Functions removes using Recursive feature elimination with cross-validation (RFECV)\n",
    "\n",
    "def reject_RFECV_feature(df_pred, y, cv_num = 5):\n",
    "    \n",
    "    df_org = df_pred.copy()\n",
    "    y_org = y.copy()\n",
    "    \n",
    "\n",
    "    from sklearn.ensemble import RandomForestClassifier\n",
    "    from sklearn.feature_selection import RFECV\n",
    "    import matplotlib.pyplot as plt\n",
    "    cv_estimator = RandomForestClassifier()\n",
    "\n",
    "    cv_estimator.fit(df_org, y_org)\n",
    "    cv_selector = RFECV(cv_estimator, cv = cv_num, step=1, scoring=\"accuracy\")\n",
    "    cv_selector = cv_selector.fit(df_org, y_org)\n",
    "    rfecv_mask = cv_selector.get_support()\n",
    "\n",
    "    rfecv_features = []\n",
    "    rem_features = []\n",
    "    for bool, feature in zip(rfecv_mask, df_org.columns):\n",
    "        if bool:\n",
    "            rfecv_features.append(feature)\n",
    "        if ~bool:\n",
    "            rem_features.append(feature)\n",
    "\n",
    "    df_clean = df_org[rfecv_features]\n",
    "    best_features = rfecv_features\n",
    "    \n",
    "    \n",
    "     \n",
    "    return df_clean, rem_features\n",
    "    \n",
    "    \n"
   ]
  },
  {
   "cell_type": "code",
   "execution_count": 27,
   "metadata": {},
   "outputs": [
    {
     "name": "stderr",
     "output_type": "stream",
     "text": [
      "C:\\Users\\Anaconda3\\lib\\site-packages\\sklearn\\ensemble\\forest.py:245: FutureWarning: The default value of n_estimators will change from 10 in version 0.20 to 100 in 0.22.\n",
      "  \"10 in version 0.20 to 100 in 0.22.\", FutureWarning)\n"
     ]
    }
   ],
   "source": [
    "import pandas as pd\n",
    "import numpy as np\n",
    "import matplotlib.pyplot as plt\n",
    "\n",
    "\n",
    "# Example of Function\n",
    "\n",
    "df = pd.read_csv('ftp://ftp.cs.wisc.edu/math-prog/cpo-dataset/machine-learn/cancer/WDBC/WDBC.dat', header = None)\n",
    "y = df[1].map({'B':0,'M':1})\n",
    "df.drop(columns = [0,1], inplace = True)\n",
    "\n",
    "# pandas_profiling.ProfileReport(df)\n",
    "\n",
    "df_clean, rem_features = reject_collinear_feature(df)\n",
    "df_clean2, rem_features2 = reject_RFECV_feature(df, y)"
   ]
  },
  {
   "cell_type": "code",
   "execution_count": 28,
   "metadata": {},
   "outputs": [
    {
     "data": {
      "text/plain": [
       "[4, 5, 9, 14, 15, 22, 23, 24, 25, 29]"
      ]
     },
     "execution_count": 28,
     "metadata": {},
     "output_type": "execute_result"
    }
   ],
   "source": [
    "rem_features"
   ]
  },
  {
   "cell_type": "code",
   "execution_count": 29,
   "metadata": {},
   "outputs": [
    {
     "data": {
      "text/plain": [
       "[4, 6, 7, 10, 11, 12, 13, 16, 17, 19, 20, 21, 31]"
      ]
     },
     "execution_count": 29,
     "metadata": {},
     "output_type": "execute_result"
    }
   ],
   "source": [
    "rem_features2"
   ]
  },
  {
   "cell_type": "code",
   "execution_count": 23,
   "metadata": {},
   "outputs": [
    {
     "name": "stderr",
     "output_type": "stream",
     "text": [
      "C:\\Users\\Anaconda3\\lib\\site-packages\\sklearn\\ensemble\\forest.py:245: FutureWarning: The default value of n_estimators will change from 10 in version 0.20 to 100 in 0.22.\n",
      "  \"10 in version 0.20 to 100 in 0.22.\", FutureWarning)\n"
     ]
    },
    {
     "name": "stdout",
     "output_type": "stream",
     "text": [
      "Optimal number of features : 11\n",
      "Best features : [3, 5, 8, 9, 15, 22, 23, 24, 25, 26, 29]\n"
     ]
    },
    {
     "data": {
      "image/png": "[encoded data removed]",
      "text/plain": [
       "<Figure size 576x576 with 1 Axes>"
      ]
     },
     "metadata": {
      "needs_background": "light"
     },
     "output_type": "display_data"
    }
   ],
   "source": [
    "  \n",
    "df_org = df.copy()\n",
    "y_org = y.copy()\n",
    "cv_num = 5\n",
    "\n",
    "\n",
    "from sklearn.ensemble import RandomForestClassifier\n",
    "from sklearn.feature_selection import RFECV\n",
    "import matplotlib.pyplot as plt\n",
    "cv_estimator = RandomForestClassifier()\n",
    "\n",
    "cv_estimator.fit(df_org, y_org)\n",
    "cv_selector = RFECV(cv_estimator, cv = cv_num, step=1, scoring=\"accuracy\")\n",
    "cv_selector = cv_selector.fit(df_org, y_org)\n",
    "rfecv_mask = cv_selector.get_support()\n",
    "\n",
    "rfecv_features = []\n",
    "rem_features = []\n",
    "for bool, feature in zip(rfecv_mask, df_org.columns):\n",
    "    if bool:\n",
    "        rfecv_features.append(feature)\n",
    "    if ~bool:\n",
    "        rem_features.append(feature)\n",
    "\n",
    "df_clean = df_org[rfecv_features]\n",
    "\n",
    "\n",
    "\n",
    "print(\"Optimal number of features :\", cv_selector.n_features_)\n",
    "print(\"Best features :\", rfecv_features)\n",
    "n_features = df_org.shape[1]\n",
    "plt.figure(figsize=(8,8))\n",
    "plt.barh(range(n_features), cv_estimator.feature_importances_, align='center') \n",
    "plt.yticks(np.arange(n_features), df_org.columns.values) \n",
    "plt.xlabel('Feature importance')\n",
    "plt.ylabel('Feature')\n",
    "plt.show()\n",
    "\n",
    "\n",
    "\n",
    "\n",
    "    "
   ]
  },
  {
   "cell_type": "code",
   "execution_count": 56,
   "metadata": {},
   "outputs": [
    {
     "data": {
      "text/plain": [
       "(569, 22)"
      ]
     },
     "execution_count": 56,
     "metadata": {},
     "output_type": "execute_result"
    }
   ],
   "source": [
    "df_clean2.shape"
   ]
  },
  {
   "cell_type": "code",
   "execution_count": 51,
   "metadata": {},
   "outputs": [
    {
     "data": {
      "text/plain": [
       "[2, 5, 6, 7, 10, 11, 13, 14, 16, 17, 18, 19, 20, 21, 30, 31]"
      ]
     },
     "execution_count": 51,
     "metadata": {},
     "output_type": "execute_result"
    }
   ],
   "source": []
  },
  {
   "cell_type": "code",
   "execution_count": null,
   "metadata": {},
   "outputs": [],
   "source": []
  }
 ],
 "metadata": {
  "kernelspec": {
   "display_name": "Python 3",
   "language": "python",
   "name": "python3"
  },
  "language_info": {
   "codemirror_mode": {
    "name": "ipython",
    "version": 3
   },
   "file_extension": ".py",
   "mimetype": "text/x-python",
   "name": "python",
   "nbconvert_exporter": "python",
   "pygments_lexer": "ipython3",
   "version": "3.7.3"
  }
 },
 "nbformat": 4,
 "nbformat_minor": 2
}
