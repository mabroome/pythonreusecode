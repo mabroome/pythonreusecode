{
 "cells": [
  {
   "cell_type": "code",
   "execution_count": 72,
   "metadata": {},
   "outputs": [],
   "source": [
    "# The following function will convert categories in a single column to a multiple columns, one for each category selection\n"
   ]
  },
  {
   "cell_type": "code",
   "execution_count": 1,
   "metadata": {},
   "outputs": [],
   "source": [
    "\n",
    "def cat_cols (dataset, sel_cols, remove_one = False):\n",
    "    \n",
    "    df1 = dataset.copy()\n",
    "    df1.head()\n",
    "    v = sel_cols\n",
    "    d_first = remove_one\n",
    "\n",
    "    df_cat = df1[v]\n",
    "    df1.drop(v, axis=1, inplace=True)\n",
    "    \n",
    "    if d_first == True:\n",
    "        \n",
    "        cat_df = pd.get_dummies(df_cat[v],  drop_first=True)\n",
    "        \n",
    "    else:\n",
    "        \n",
    "        cat_df = pd.get_dummies(df_cat[v],  drop_first=False)\n",
    "    \n",
    "    dataset = pd.concat([df1, cat_df], axis=1, sort=False)\n",
    "    \n",
    "    \n",
    "    return dataset"
   ]
  },
  {
   "cell_type": "code",
   "execution_count": 2,
   "metadata": {},
   "outputs": [],
   "source": [
    "# Example of Function use. Call categorize cols \"cat_cols\" and provide pandas dataset, list of columns to convert [\"abc\", \"def\"]\n",
    "# And remove first to true or false. \n",
    "\n",
    "import pandas as pd\n",
    "import numpy as np\n",
    "import os\n",
    "\n",
    "pur_ds = pd.read_excel('LS2_Purchase_data.xlsx', index_col=0)\n",
    "\n"
   ]
  },
  {
   "cell_type": "code",
   "execution_count": 6,
   "metadata": {},
   "outputs": [
    {
     "name": "stdout",
     "output_type": "stream",
     "text": [
      "<class 'pandas.core.frame.DataFrame'>\n",
      "Int64Index: 50000 entries, 0 to 49999\n",
      "Data columns (total 19 columns):\n",
      "User_ID                       50000 non-null int64\n",
      "Product_ID                    50000 non-null object\n",
      "Occupation                    50000 non-null int64\n",
      "City_Category                 50000 non-null object\n",
      "Stay_In_Current_City_Years    50000 non-null object\n",
      "Marital_Status                50000 non-null int64\n",
      "Product_Category_1            50000 non-null int64\n",
      "Product_Category_2            34279 non-null float64\n",
      "Product_Category_3            15183 non-null float64\n",
      "Purchase                      50000 non-null int64\n",
      "Gender_F                      50000 non-null uint8\n",
      "Gender_M                      50000 non-null uint8\n",
      "Age_0-17                      50000 non-null uint8\n",
      "Age_18-25                     50000 non-null uint8\n",
      "Age_26-35                     50000 non-null uint8\n",
      "Age_36-45                     50000 non-null uint8\n",
      "Age_46-50                     50000 non-null uint8\n",
      "Age_51-55                     50000 non-null uint8\n",
      "Age_55+                       50000 non-null uint8\n",
      "dtypes: float64(2), int64(5), object(3), uint8(9)\n",
      "memory usage: 4.6+ MB\n"
     ]
    }
   ],
   "source": [
    "\n",
    "cols = [\"Gender\", \"Age\"]\n",
    "remove_first = False\n",
    "d_new = cat_cols(pur_ds, cols, remove_first)\n",
    "d_new.info()"
   ]
  },
  {
   "cell_type": "code",
   "execution_count": null,
   "metadata": {},
   "outputs": [],
   "source": []
  },
  {
   "cell_type": "code",
   "execution_count": null,
   "metadata": {},
   "outputs": [],
   "source": []
  }
 ],
 "metadata": {
  "kernelspec": {
   "display_name": "Python 3",
   "language": "python",
   "name": "python3"
  },
  "language_info": {
   "codemirror_mode": {
    "name": "ipython",
    "version": 3
   },
   "file_extension": ".py",
   "mimetype": "text/x-python",
   "name": "python",
   "nbconvert_exporter": "python",
   "pygments_lexer": "ipython3",
   "version": "3.7.3"
  }
 },
 "nbformat": 4,
 "nbformat_minor": 2
}
