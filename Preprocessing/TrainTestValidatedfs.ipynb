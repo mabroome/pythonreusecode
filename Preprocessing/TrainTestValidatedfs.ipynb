{
 "cells": [
  {
   "cell_type": "code",
   "execution_count": 77,
   "metadata": {},
   "outputs": [],
   "source": [
    "# Two functions exist\n",
    "# One to create a split for train, validation and test dataframes and y values \"train_val_test\", enter % train & validate\n",
    "# provide complete dataset of independant variables and an np_array of y values and it will return the following\n",
    "# df_train, y_train, df_val, y_val, df_test, y_test\n",
    "#\n",
    "# The secont creates a train, test split with no validation\n",
    "# df_train, df_test, y_train, y_test\n",
    "\n",
    "\n",
    "# Copy below to use train val and test, making changes to names in function\n",
    "# df_train, y_train, df_val, y_val, df_test, y_test = train_val_test (df, y, train = .6, validate = .2)\n",
    "\n",
    "def train_val_test (df, y, train = .6, validate = .2):\n",
    "    \n",
    "    from sklearn.model_selection import train_test_split\n",
    "    import pandas as pd\n",
    "    import numpy as np\n",
    "    \n",
    "    test = 1 - train - validate\n",
    "    new_val = validate/(validate + test)\n",
    "    df_train, df_rem, y_train, y_rem = train_test_split(df, y, test_size=(1-train))\n",
    "    df_val, df_test, y_val, y_test = train_test_split(df_rem, y_rem, test_size=new_val)\n",
    "    \n",
    "    return df_train, y_train, df_val, y_val, df_test, y_test\n",
    "\n",
    "\n",
    "# Train and Test Sets. Copy below to add to program\n",
    "# df_train, y_train, df_test, y_test = train_test (df, y, train = .7)\n",
    "\n",
    "def train_test (df, y, train = .7):\n",
    "    \n",
    "    from sklearn.model_selection import train_test_split\n",
    "    import pandas as pd\n",
    "    import numpy as np\n",
    "    \n",
    "    df_train, df_test, y_train, y_test = train_test_split(df, y, test_size=train)\n",
    "        \n",
    "    return df_train, y_train, df_test, y_test\n",
    "    \n",
    "\n",
    "    \n",
    "    "
   ]
  },
  {
   "cell_type": "code",
   "execution_count": 66,
   "metadata": {},
   "outputs": [],
   "source": [
    "test = [[1,2],[3,4],[4,5],[6,7],[7,8],[8,9],[10,11],[12,13],[14,15],[16,17]]\n",
    "y = np.array([1,2,3,4,5,6,7,8,9,10])"
   ]
  },
  {
   "cell_type": "code",
   "execution_count": 67,
   "metadata": {},
   "outputs": [],
   "source": [
    "import pandas as pd\n",
    "import numpy as np\n",
    "df_start = pd.DataFrame(test)"
   ]
  },
  {
   "cell_type": "code",
   "execution_count": null,
   "metadata": {},
   "outputs": [],
   "source": [
    "df_train, y_train, df_val, y_val, df_test, y_test = train_val_test(df_start, y, train = .5, validate = .25 )"
   ]
  },
  {
   "cell_type": "code",
   "execution_count": null,
   "metadata": {},
   "outputs": [],
   "source": []
  },
  {
   "cell_type": "code",
   "execution_count": null,
   "metadata": {},
   "outputs": [],
   "source": []
  }
 ],
 "metadata": {
  "kernelspec": {
   "display_name": "Python 3",
   "language": "python",
   "name": "python3"
  },
  "language_info": {
   "codemirror_mode": {
    "name": "ipython",
    "version": 3
   },
   "file_extension": ".py",
   "mimetype": "text/x-python",
   "name": "python",
   "nbconvert_exporter": "python",
   "pygments_lexer": "ipython3",
   "version": "3.7.3"
  }
 },
 "nbformat": 4,
 "nbformat_minor": 2
}
