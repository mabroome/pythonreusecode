{
 "cells": [
  {
   "cell_type": "code",
   "execution_count": 2,
   "metadata": {},
   "outputs": [],
   "source": [
    "import pandas as pd\n",
    "import numpy as np\n",
    "import matplotlib.pyplot as plt\n",
    "from sklearn.datasets import make_classification"
   ]
  },
  {
   "cell_type": "code",
   "execution_count": 28,
   "metadata": {},
   "outputs": [],
   "source": [
    "np.random.seed(5)\n",
    "\n",
    "# make_classification creates random data, the data structure is the first item in the tupple x[0] include the randomized\n",
    "# independant variables (features) and same size. nfeatures = n_inf + n_red + n_rep\n",
    "# x[0] is what we will be working with for this exercise\n",
    "data = make_classification(n_samples=100, n_features=2, n_informative=2, n_redundant=0, n_repeated=0, class_sep=5.0)\n",
    "\n",
    "# Create a data frame from the data created using make_classification\n",
    "\n",
    "x = pd.DataFrame(data = data[0], columns = ['var1', 'var2'])"
   ]
  },
  {
   "cell_type": "code",
   "execution_count": 29,
   "metadata": {},
   "outputs": [
    {
     "data": {
      "text/html": [
       "<div>\n",
       "<style scoped>\n",
       "    .dataframe tbody tr th:only-of-type {\n",
       "        vertical-align: middle;\n",
       "    }\n",
       "\n",
       "    .dataframe tbody tr th {\n",
       "        vertical-align: top;\n",
       "    }\n",
       "\n",
       "    .dataframe thead th {\n",
       "        text-align: right;\n",
       "    }\n",
       "</style>\n",
       "<table border=\"1\" class=\"dataframe\">\n",
       "  <thead>\n",
       "    <tr style=\"text-align: right;\">\n",
       "      <th></th>\n",
       "      <th>var1</th>\n",
       "      <th>var2</th>\n",
       "    </tr>\n",
       "  </thead>\n",
       "  <tbody>\n",
       "    <tr>\n",
       "      <th>0</th>\n",
       "      <td>-4.933293</td>\n",
       "      <td>-5.271220</td>\n",
       "    </tr>\n",
       "    <tr>\n",
       "      <th>1</th>\n",
       "      <td>-4.766789</td>\n",
       "      <td>5.779921</td>\n",
       "    </tr>\n",
       "    <tr>\n",
       "      <th>2</th>\n",
       "      <td>4.903096</td>\n",
       "      <td>5.449817</td>\n",
       "    </tr>\n",
       "    <tr>\n",
       "      <th>3</th>\n",
       "      <td>-5.589190</td>\n",
       "      <td>-4.083275</td>\n",
       "    </tr>\n",
       "    <tr>\n",
       "      <th>4</th>\n",
       "      <td>4.928016</td>\n",
       "      <td>-5.233981</td>\n",
       "    </tr>\n",
       "  </tbody>\n",
       "</table>\n",
       "</div>"
      ],
      "text/plain": [
       "       var1      var2\n",
       "0 -4.933293 -5.271220\n",
       "1 -4.766789  5.779921\n",
       "2  4.903096  5.449817\n",
       "3 -5.589190 -4.083275\n",
       "4  4.928016 -5.233981"
      ]
     },
     "execution_count": 29,
     "metadata": {},
     "output_type": "execute_result"
    }
   ],
   "source": [
    "x.head()"
   ]
  },
  {
   "cell_type": "code",
   "execution_count": 34,
   "metadata": {},
   "outputs": [
    {
     "name": "stdout",
     "output_type": "stream",
     "text": [
      "[1 4 2 1 0 2 2 0 3 4 2 2 2 1 2 0 0 4 1 1 0 0 3 0 2 2 1 0 2 0 0 0 1 1 0 0 1\n",
      " 4 0 2 1 3 2 1 1 2 3 4 3 3 1 4 0 1 2 1 3 2 3 0 0 1 2 3 2 1 0 0 2 1 2 2 3 4\n",
      " 1 0 3 1 4 0 0 1 2 3 4 0 4 3 1 2 1 2 2 4 2 4 1 1 0 0]\n",
      "[[ 5.15869258 -4.98084388]\n",
      " [-5.10522201 -4.80707562]\n",
      " [ 4.97456236  4.93481373]\n",
      " [-5.89124206  4.71208567]\n",
      " [-4.34604482  5.36124764]]\n"
     ]
    }
   ],
   "source": [
    "from sklearn.cluster import KMeans\n",
    "\n",
    "# Create the parameters of 5 clusters and initialize the parameters\n",
    "k_m = KMeans(n_clusters = 5, init = 'random')\n",
    "\n",
    "# run the K-Means Model \n",
    "k_m.fit_predict(x)\n",
    "\n",
    "# k_m.labels_ will provide labels (cluster number) for each data point (sample)\n",
    "# k_m.cluster_centers_ will provide coordinates for each of the clusters\n",
    "\n",
    "print(k_m.labels_)\n",
    "print(k_m.cluster_centers_)\n"
   ]
  },
  {
   "cell_type": "code",
   "execution_count": 31,
   "metadata": {},
   "outputs": [
    {
     "data": {
      "image/png": "[encoded data removed]",
      "text/plain": [
       "<Figure size 432x288 with 1 Axes>"
      ]
     },
     "metadata": {
      "needs_background": "light"
     },
     "output_type": "display_data"
    }
   ],
   "source": [
    "colors = {0 : 'black', 1: 'red', 2: 'green', 3: 'blue', 4 : 'yellow'}\n",
    "\n",
    "for (index, obs), label in zip(x.iterrows(), k_m.labels_):\n",
    "    plt.scatter(obs['var1'], obs['var2'], color = colors[label])\n",
    "plt.show()"
   ]
  },
  {
   "cell_type": "code",
   "execution_count": 32,
   "metadata": {},
   "outputs": [
    {
     "data": {
      "image/png": "[encoded data removed]",
      "text/plain": [
       "<Figure size 432x288 with 1 Axes>"
      ]
     },
     "metadata": {
      "needs_background": "light"
     },
     "output_type": "display_data"
    }
   ],
   "source": [
    "k_m = KMeans(n_clusters = 2, init = 'random')\n",
    "k_m.fit_predict(x)\n",
    "\n",
    "for (index, obs), label in zip(x.iterrows(), k_m.labels_):\n",
    "    plt.scatter(obs['var1'], obs['var2'], color = colors[label])\n",
    "plt.show()"
   ]
  },
  {
   "cell_type": "code",
   "execution_count": 33,
   "metadata": {},
   "outputs": [
    {
     "data": {
      "image/png": "[encoded data removed]",
      "text/plain": [
       "<Figure size 432x288 with 1 Axes>"
      ]
     },
     "metadata": {
      "needs_background": "light"
     },
     "output_type": "display_data"
    }
   ],
   "source": [
    "k_m = KMeans(n_clusters = 3, init = 'random')\n",
    "k_m.fit_predict(x)\n",
    "\n",
    "for (index, obs), label in zip(x.iterrows(), k_m.labels_):\n",
    "    plt.scatter(obs['var1'], obs['var2'], color = colors[label])\n",
    "plt.show()"
   ]
  },
  {
   "cell_type": "code",
   "execution_count": 38,
   "metadata": {},
   "outputs": [
    {
     "data": {
      "image/png": "[encoded data removed]",
      "text/plain": [
       "<Figure size 432x288 with 1 Axes>"
      ]
     },
     "metadata": {
      "needs_background": "light"
     },
     "output_type": "display_data"
    }
   ],
   "source": [
    "# We will determine the optimal number of clusters by calculating the sum of square errors (SSE) as we add clusters\n",
    "# As more clusters are added, the benefits will be diminished as will be illustrated\n",
    "\n",
    "#Create the data and the data frame\n",
    "data = make_classification(n_samples=100, n_features=2, n_informative=2, n_redundant=0, n_repeated=0, class_sep=5.0)\n",
    "\n",
    "x = pd.DataFrame(data = data[0], columns = [\"var1\", \"var2\"])\n",
    "sse = {}\n",
    "\n",
    "for n in range(1, 10):\n",
    "    kmeans = KMeans(n_clusters = n, init = 'random', max_iter=20).fit(x)\n",
    "    \n",
    "    # Inertia is the cumulative distance of each observation from its closets centroid\n",
    "    sse[n] = kmeans.inertia_\n",
    "    \n",
    "    # The plot will help determine where benefits of more centroids (elbow) has diminishing returns\n",
    "    \n",
    "plt.figure\n",
    "plt.plot(list(sse.keys()), list(sse.values()))\n",
    "plt.xlabel(\"Number of Clusters\")\n",
    "plt.ylabel(\"Distance\")\n",
    "plt.show()\n",
    "\n",
    "    \n",
    "    \n",
    "    "
   ]
  },
  {
   "cell_type": "code",
   "execution_count": 39,
   "metadata": {},
   "outputs": [
    {
     "data": {
      "image/png": "[encoded data removed]",
      "text/plain": [
       "<Figure size 432x288 with 1 Axes>"
      ]
     },
     "metadata": {
      "needs_background": "light"
     },
     "output_type": "display_data"
    }
   ],
   "source": [
    "# A second example reducing the separation\n",
    "\n",
    "#Create the data and the data frame\n",
    "data = make_classification(n_samples=100, n_features=2, n_informative=2, n_redundant=0, n_repeated=0, class_sep=.4)\n",
    "\n",
    "x = pd.DataFrame(data = data[0], columns = [\"var1\", \"var2\"])\n",
    "sse = {}\n",
    "\n",
    "for n in range(1, 10):\n",
    "    kmeans = KMeans(n_clusters = n, init = 'random', max_iter=20).fit(x)\n",
    "    \n",
    "    # Inertia is the cumulative distance of each observation from its closets centroid\n",
    "    sse[n] = kmeans.inertia_\n",
    "    \n",
    "    # The plot will help determine where benefits of more centroids (elbow) has diminishing returns\n",
    "    \n",
    "plt.figure\n",
    "plt.plot(list(sse.keys()), list(sse.values()))\n",
    "plt.xlabel(\"Number of Clusters\")\n",
    "plt.ylabel(\"Distance\")\n",
    "plt.show()"
   ]
  },
  {
   "cell_type": "code",
   "execution_count": null,
   "metadata": {},
   "outputs": [],
   "source": []
  }
 ],
 "metadata": {
  "kernelspec": {
   "display_name": "Python 3",
   "language": "python",
   "name": "python3"
  },
  "language_info": {
   "codemirror_mode": {
    "name": "ipython",
    "version": 3
   },
   "file_extension": ".py",
   "mimetype": "text/x-python",
   "name": "python",
   "nbconvert_exporter": "python",
   "pygments_lexer": "ipython3",
   "version": "3.7.3"
  }
 },
 "nbformat": 4,
 "nbformat_minor": 2
}
